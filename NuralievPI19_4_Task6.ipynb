{
 "cells": [
  {
   "cell_type": "markdown",
   "metadata": {},
   "source": [
    "Нуралиев Расим. Группа ПИ19-4\n",
    "\n",
    "**Вариант 16**\n",
    "## Task 6\n",
    "Задание 6. Задача об оптимальном использовании ресурсов [1,2 – гл. 3, 4]\n",
    "Для производства трех видов изделий (A, B, C) используются ресурсы типа I и II,\n",
    "причем закупки ресурсов ограничены возможностями поставщиков. Нормы расхода ре\u0002сурсов и их запасы приведены в таблице.\n",
    "1. Постройте математическую модель задачи.\n",
    "2. Определите такой план производства, при котором стоимость произведенного то\u0002вара из имеющихся ресурсов является наибольшей.\n",
    "3. Постройте задачу, двойственную к данной.\n",
    "4. Найдите решение двойственной задачи. Поясните смысл двойственных перемен\u0002ных.\n",
    "5. Проверьте результаты вычислений на компьютере."
   ]
  },
  {
   "cell_type": "markdown",
   "metadata": {},
   "source": [
    "a = 3 <br>\n",
    "b = 1 <br>\n",
    "c = 2"
   ]
  },
  {
   "cell_type": "markdown",
   "metadata": {},
   "source": [
    "### Построение математической модели задачи"
   ]
  },
  {
   "cell_type": "markdown",
   "metadata": {},
   "source": [
    "Кол-во параметров для оптимизации: 3"
   ]
  },
  {
   "cell_type": "code",
   "execution_count": 15,
   "metadata": {},
   "outputs": [],
   "source": [
    "import numpy as np\n",
    "import pandas as pd\n",
    "import matplotlib.pyplot as plt\n",
    "import gurobipy as gb\n",
    "\n",
    "from scipy.optimize import minimize, LinearConstraint, Bounds, linprog\n",
    "import sympy as sym"
   ]
  },
  {
   "cell_type": "code",
   "execution_count": 36,
   "metadata": {},
   "outputs": [],
   "source": [
    "a = 3 \n",
    "b = 1 \n",
    "c = 22"
   ]
  },
  {
   "cell_type": "markdown",
   "metadata": {},
   "source": [
    "**F(x1,x2,x3)** = (6b + 12)\\*x1 + (5b + 22)\\*x2 + c\\*x3 → max<br>"
   ]
  },
  {
   "cell_type": "markdown",
   "metadata": {},
   "source": [
    "Вариант 16\n",
    "\n",
    "$F(x1,x2,x3) = 18 * x1 + 27 * x2 + 22 * x3 $\n"
   ]
  },
  {
   "cell_type": "markdown",
   "metadata": {},
   "source": [
    "Ограничения:\n",
    "<br>\n",
    "$x1 \\geq 0 $ <br>\n",
    "$x2 \\geq 0 $ <br>\n",
    "$x3 \\geq 0 $ <br>\n",
    "$x1 + 3*x2 + a*x3 \\leq 3000 $ <br>\n",
    "$6*x1 + 5*x2 + 2*x3 \\leq 3320 $ <br>\n"
   ]
  },
  {
   "cell_type": "code",
   "execution_count": 14,
   "metadata": {},
   "outputs": [
    {
     "name": "stdout",
     "output_type": "stream",
     "text": [
      "Collecting gurobipy\n",
      "  Downloading gurobipy-9.5.1-cp39-cp39-win_amd64.whl (8.9 MB)\n",
      "Installing collected packages: gurobipy\n",
      "Successfully installed gurobipy-9.5.1\n"
     ]
    }
   ],
   "source": [
    "!pip install gurobipy"
   ]
  },
  {
   "cell_type": "code",
   "execution_count": 37,
   "metadata": {},
   "outputs": [
    {
     "name": "stdout",
     "output_type": "stream",
     "text": [
      "Optimization terminated successfully.\n",
      "         Current function value: -24640.000000\n",
      "         Iterations: 3\n",
      "Подобранные значения:\n",
      "\n",
      "Максимальное значение: 24640.0\n",
      "x1 = 247.5\n",
      "x2 = 0.0\n",
      "x3 = 917.5\n"
     ]
    }
   ],
   "source": [
    "#Вводим границы\n",
    "\n",
    "bounds = np.array([(0, np.inf), (0, np.inf), (0, np.inf)])\n",
    "\n",
    "#Вводим ограничения\n",
    "\n",
    "#A_ub - матрица коэф. при x1,x2,x3 в ограничениях, A_ub @ x <= b_ub\n",
    "#c0 - коэффициенты перед переменными в целевой функции\n",
    "A_ub = np.array([[1, 3, a], [6, 5, 2]])\n",
    "B = np.array([3000, 3320])\n",
    "c0 = -np.array([6*b + 12, 5*b + 22, c])\n",
    "\n",
    "res = linprog(c0, A_ub, B, bounds=bounds, method='simplex', options={'disp': True})\n",
    "\n",
    "x1 = res.x[0]\n",
    "x2 = res.x[1]\n",
    "x3 = res.x[2]\n",
    "max_value = -res.fun\n",
    "\n",
    "print(f\"Подобранные значения:\\n\\nМаксимальное значение: {max_value}\\nx1 = {x1}\\nx2 = {x2}\\nx3 = {x3}\")"
   ]
  },
  {
   "cell_type": "markdown",
   "metadata": {},
   "source": [
    "Проверка результатов вычисления"
   ]
  },
  {
   "cell_type": "code",
   "execution_count": 31,
   "metadata": {},
   "outputs": [],
   "source": [
    "b_opt = np.array([x1 + 3*x2 + a*x3, 6*x1 + 5*x2 + 2*x3])\n"
   ]
  },
  {
   "cell_type": "code",
   "execution_count": 32,
   "metadata": {},
   "outputs": [],
   "source": [
    "assert b_opt[0] == 3000\n",
    "assert  b_opt[1] == 3320"
   ]
  },
  {
   "cell_type": "markdown",
   "metadata": {},
   "source": [
    "Дефицит (исчерпанность ресурсов)"
   ]
  },
  {
   "cell_type": "code",
   "execution_count": 41,
   "metadata": {},
   "outputs": [
    {
     "data": {
      "text/plain": [
       "array([0., 0.])"
      ]
     },
     "execution_count": 41,
     "metadata": {},
     "output_type": "execute_result"
    }
   ],
   "source": [
    "abs(B - b_opt)"
   ]
  },
  {
   "cell_type": "markdown",
   "metadata": {},
   "source": [
    "Оценка устойчивости коэффициентов целевой функции\n",
    "Минимальные и максимальные значения коэффициентов в целевой функции, сохраняющие оптимальность\n"
   ]
  },
  {
   "cell_type": "code",
   "execution_count": 42,
   "metadata": {},
   "outputs": [],
   "source": [
    "from gurobipy import *"
   ]
  },
  {
   "cell_type": "code",
   "execution_count": 46,
   "metadata": {},
   "outputs": [
    {
     "name": "stdout",
     "output_type": "stream",
     "text": [
      "Gurobi Optimizer version 9.5.1 build v9.5.1rc2 (win64)\n",
      "Thread count: 4 physical cores, 8 logical processors, using up to 8 threads\n",
      "Optimize a model with 2 rows, 3 columns and 6 nonzeros\n",
      "Model fingerprint: 0xf7e02ca1\n",
      "Coefficient statistics:\n",
      "  Matrix range     [1e+00, 6e+00]\n",
      "  Objective range  [2e+01, 3e+01]\n",
      "  Bounds range     [0e+00, 0e+00]\n",
      "  RHS range        [3e+03, 3e+03]\n",
      "Presolve time: 0.01s\n",
      "Presolved: 2 rows, 3 columns, 6 nonzeros\n",
      "\n",
      "Iteration    Objective       Primal Inf.    Dual Inf.      Time\n",
      "       0    6.7000000e+31   3.375000e+30   6.700000e+01      0s\n",
      "       2    2.4640000e+04   0.000000e+00   0.000000e+00      0s\n",
      "\n",
      "Solved in 2 iterations and 0.01 seconds (0.00 work units)\n",
      "Optimal objective  2.464000000e+04\n",
      "X = [247.5, 0.0, 917.5] \n",
      "Fmax = 24640.0 \n",
      "Оптимальный план двойственной задачи Pi → (y1,y2) = [6.0, 2.0000000000000004]\n",
      "x1 = 247.5\n",
      "Pi1 = 6.0\n",
      "\n",
      "    Variable            X          Obj     SAObjLow      SAObjUp \n",
      "----------------------------------------------------------------\n",
      "          x1        247.5           18      16.2222           66 \n",
      "          x2            0           27         -inf           28 \n",
      "          x3        917.5           22      20.7692           54 \n"
     ]
    }
   ],
   "source": [
    "var_names = ['x1', 'x2', 'x3']                         \n",
    "profit = np.array([6*b + 12, 5*b + 22, c])              \n",
    "res_used = np.array([[1, 3, a], [6, 5, 2]]) \n",
    "res_avail = np.array([3000, 3320])          \n",
    "\n",
    "n = len(profit)                                    \n",
    "m = len(res_avail) \n",
    "\n",
    "# Инициализация модели\n",
    "model = Model()\n",
    "\n",
    "x = model.addVars(n, name=var_names) # заводим переменные в модель\n",
    "obj = model.setObjective(quicksum(profit[j] * x[j] for j in range(n)), GRB.MAXIMIZE)\n",
    "con = []\n",
    "for i in range(m):\n",
    "    con.append(model.addConstr(quicksum(res_used[i, j] * x[j] for j in range(n)) <= res_avail[i], name=var_names[i]))\n",
    "model.optimize()\n",
    "\n",
    "\n",
    "# Результаты вычислений\n",
    "print(\"X =\", model.X, \"\\nFmax =\", model.ObjVal, \"\\nОптимальный план двойственной задачи Pi → (y1,y2) =\", model.Pi) \n",
    "print(\"x1 =\", x[0].X)\n",
    "print(\"Pi1 =\", con[0].Pi)\n",
    "\n",
    "# Оценка устойчивости коэффициентов целевой функции\n",
    "# Минимальные и максимальные значения коэффициентов в целевой функции, сохраняющие оптимальность\n",
    "model.printAttr(['X', 'Obj', 'SAObjLow', 'SAObjUp'])"
   ]
  },
  {
   "cell_type": "code",
   "execution_count": 48,
   "metadata": {},
   "outputs": [
    {
     "name": "stdout",
     "output_type": "stream",
     "text": [
      "Анализ чувствительности\n",
      "Fmax = 24640.0\n",
      "\n",
      "    Variable            X           RC           LB      SALBLow       SALBUp           UB      SAUBLow       SAUBUp \n",
      "--------------------------------------------------------------------------------------------------------------------\n",
      "          x1        247.5            0            0         -inf        247.5          inf        247.5          inf \n",
      "          x2            0           -1            0         -inf          440          inf            0          inf \n",
      "          x3        917.5            0            0         -inf        917.5          inf        917.5          inf \n"
     ]
    }
   ],
   "source": [
    "#Решение двойственной к M задачи\n",
    "print('Анализ чувствительности\\nFmax =', model.ObjVal)\n",
    "model.printAttr(['X', 'RC', 'LB', 'SALBLow', 'SALBUp', 'UB', 'SAUBLow', 'SAUBUp'])"
   ]
  },
  {
   "cell_type": "code",
   "execution_count": 49,
   "metadata": {},
   "outputs": [
    {
     "name": "stdout",
     "output_type": "stream",
     "text": [
      "\n",
      "  Constraint        Sense        Slack           Pi          RHS     SARHSLow      SARHSUp \n",
      "------------------------------------------------------------------------------------------\n",
      "          x1            <            0            6         3000      553.333         4980 \n",
      "          x2            <            0            2         3320         2000        18000 \n"
     ]
    }
   ],
   "source": [
    "model.printAttr(['Sense', 'Slack', 'Pi', 'RHS', 'SARHSLow', 'SARHSUp'])"
   ]
  }
 ],
 "metadata": {
  "interpreter": {
   "hash": "95825280d46be1c77c50240cbdd62d49105ab763506cd079c14e5b5bcade1105"
  },
  "kernelspec": {
   "display_name": "Python 3.9.7 ('base')",
   "language": "python",
   "name": "python3"
  },
  "language_info": {
   "codemirror_mode": {
    "name": "ipython",
    "version": 3
   },
   "file_extension": ".py",
   "mimetype": "text/x-python",
   "name": "python",
   "nbconvert_exporter": "python",
   "pygments_lexer": "ipython3",
   "version": "3.9.7"
  },
  "orig_nbformat": 4
 },
 "nbformat": 4,
 "nbformat_minor": 2
}
