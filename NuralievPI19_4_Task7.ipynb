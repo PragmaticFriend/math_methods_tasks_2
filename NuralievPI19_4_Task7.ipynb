{
 "cells": [
  {
   "cell_type": "markdown",
   "metadata": {},
   "source": [
    "Нуралиев Расим. Группа ПИ19-4\n",
    "\n",
    "**Вариант 16**\n",
    "\n",
    "Задание 7. Транспортная задача [1,2 – гл. 6]\n",
    "\n",
    "\n",
    "Дана транспортная задача: A1, A2, A3 – поставщики с запасами a1, a2, a3 однородного\n",
    "груза, B1, B2, B3, B4, B5 – потребители с потребностями b1, b2, b3, b4, b5. Матрица тарифов\n",
    "C = (cij ), где i = 1, 2, 3 и j = 1, 2, 3, 4, 5, содержит стоимости перевозки единицы груза\n",
    "из пункта Ai в пункт Bj\n",
    ".\n",
    "Требуется найти минимальный по стоимости план перевозки груза от поставщиков\n",
    "к потребителям такой, чтобы был вывезен весь груз и все потребности были удовлетво\u0002рены.\n",
    "1. Убедитесь, что транспортная задача закрытого типа.\n",
    "2. Найдите какой-либо допустимый план перевозки груза (можно использовать ме\u0002тоды северо-западного угла, минимальной стоимости или Фогеля).\n",
    "3. Найдите оптимальный план перевозки груза (план минимальной стоимости) ме\u0002тодом потенциалов.\n",
    "4. Проверьте результаты вычислений на компьютере.\n"
   ]
  },
  {
   "cell_type": "code",
   "execution_count": 4,
   "metadata": {},
   "outputs": [
    {
     "name": "stdout",
     "output_type": "stream",
     "text": [
      "Requirement already satisfied: scipy in c:\\users\\a0932\\appdata\\local\\programs\\python\\python310\\lib\\site-packages (1.8.0)\n",
      "Requirement already satisfied: sympy in c:\\users\\a0932\\appdata\\local\\programs\\python\\python310\\lib\\site-packages (1.10.1)\n",
      "Requirement already satisfied: gurobipy in c:\\users\\a0932\\appdata\\local\\programs\\python\\python310\\lib\\site-packages (9.5.1)\n",
      "Collecting matplotlib\n",
      "  Using cached matplotlib-3.5.2-cp310-cp310-win_amd64.whl (7.2 MB)\n",
      "Requirement already satisfied: numpy<1.25.0,>=1.17.3 in c:\\users\\a0932\\appdata\\local\\programs\\python\\python310\\lib\\site-packages (from scipy) (1.22.3)\n",
      "Requirement already satisfied: mpmath>=0.19 in c:\\users\\a0932\\appdata\\local\\programs\\python\\python310\\lib\\site-packages (from sympy) (1.2.1)\n",
      "Requirement already satisfied: python-dateutil>=2.7 in c:\\users\\a0932\\appdata\\local\\programs\\python\\python310\\lib\\site-packages (from matplotlib) (2.8.2)\n",
      "Collecting kiwisolver>=1.0.1\n",
      "  Using cached kiwisolver-1.4.2-cp310-cp310-win_amd64.whl (55 kB)\n",
      "Collecting cycler>=0.10\n",
      "  Using cached cycler-0.11.0-py3-none-any.whl (6.4 kB)\n",
      "Requirement already satisfied: packaging>=20.0 in c:\\users\\a0932\\appdata\\local\\programs\\python\\python310\\lib\\site-packages (from matplotlib) (21.3)\n",
      "Requirement already satisfied: pyparsing>=2.2.1 in c:\\users\\a0932\\appdata\\local\\programs\\python\\python310\\lib\\site-packages (from matplotlib) (3.0.9)\n",
      "Collecting fonttools>=4.22.0\n",
      "  Using cached fonttools-4.33.3-py3-none-any.whl (930 kB)\n",
      "Requirement already satisfied: pillow>=6.2.0 in c:\\users\\a0932\\appdata\\local\\programs\\python\\python310\\lib\\site-packages (from matplotlib) (9.1.0)\n",
      "Requirement already satisfied: six>=1.5 in c:\\users\\a0932\\appdata\\local\\programs\\python\\python310\\lib\\site-packages (from python-dateutil>=2.7->matplotlib) (1.16.0)\n",
      "Installing collected packages: kiwisolver, fonttools, cycler, matplotlib\n",
      "Successfully installed cycler-0.11.0 fonttools-4.33.3 kiwisolver-1.4.2 matplotlib-3.5.2\n"
     ]
    },
    {
     "name": "stderr",
     "output_type": "stream",
     "text": [
      "WARNING: You are using pip version 22.0.4; however, version 22.1 is available.\n",
      "You should consider upgrading via the 'C:\\Users\\a0932\\AppData\\Local\\Programs\\Python\\Python310\\python.exe -m pip install --upgrade pip' command.\n"
     ]
    }
   ],
   "source": [
    "!pip install scipy sympy gurobipy matplotlib"
   ]
  },
  {
   "cell_type": "code",
   "execution_count": 5,
   "metadata": {},
   "outputs": [],
   "source": [
    "import numpy as np\n",
    "import pandas as pd\n",
    "from scipy.optimize import Bounds, linprog\n",
    "import sympy as sym\n",
    "import matplotlib.pyplot as plt\n",
    "from gurobipy import *"
   ]
  },
  {
   "cell_type": "code",
   "execution_count": 6,
   "metadata": {},
   "outputs": [],
   "source": [
    "# Вариант 16\n",
    "matrix = \"\"\"\n",
    "9 14 6 5 14\n",
    "3 17 12 13 7\n",
    "15 10 11 8 21\n",
    "\"\"\""
   ]
  },
  {
   "cell_type": "code",
   "execution_count": 26,
   "metadata": {},
   "outputs": [],
   "source": [
    "def parce_input_matrix(matrix):\n",
    "  mt = matrix.split('\\n')\n",
    "  mt = [i for i in mt if i]\n",
    "  row1, row2, row3 = mt\n",
    "\n",
    "  return np.array([list(map(int, row1.split(' '))), list(map(int, row2.split(' '))), list(map(int, row3.split(' ')))])"
   ]
  },
  {
   "cell_type": "code",
   "execution_count": 28,
   "metadata": {},
   "outputs": [
    {
     "data": {
      "text/plain": [
       "array([[ 9, 14,  6,  5, 14],\n",
       "       [ 3, 17, 12, 13,  7],\n",
       "       [15, 10, 11,  8, 21]])"
      ]
     },
     "execution_count": 28,
     "metadata": {},
     "output_type": "execute_result"
    }
   ],
   "source": [
    "C = parce_input_matrix(matrix)\n",
    "C"
   ]
  },
  {
   "cell_type": "code",
   "execution_count": 29,
   "metadata": {},
   "outputs": [],
   "source": [
    "a1 = 280\n",
    "a2 = 390\n",
    "a3 = 250"
   ]
  },
  {
   "cell_type": "code",
   "execution_count": 30,
   "metadata": {},
   "outputs": [],
   "source": [
    "b1 = 170\n",
    "b2 = 80\n",
    "b3 = 240\n",
    "b4 = 310\n",
    "b5 = 120"
   ]
  },
  {
   "cell_type": "code",
   "execution_count": 31,
   "metadata": {},
   "outputs": [
    {
     "data": {
      "text/html": [
       "<div>\n",
       "<style scoped>\n",
       "    .dataframe tbody tr th:only-of-type {\n",
       "        vertical-align: middle;\n",
       "    }\n",
       "\n",
       "    .dataframe tbody tr th {\n",
       "        vertical-align: top;\n",
       "    }\n",
       "\n",
       "    .dataframe thead th {\n",
       "        text-align: right;\n",
       "    }\n",
       "</style>\n",
       "<table border=\"1\" class=\"dataframe\">\n",
       "  <thead>\n",
       "    <tr style=\"text-align: right;\">\n",
       "      <th>aᵢ \\ bⱼ</th>\n",
       "      <th>170</th>\n",
       "      <th>80</th>\n",
       "      <th>240</th>\n",
       "      <th>310</th>\n",
       "      <th>120</th>\n",
       "    </tr>\n",
       "  </thead>\n",
       "  <tbody>\n",
       "    <tr>\n",
       "      <th>280</th>\n",
       "      <td>9</td>\n",
       "      <td>14</td>\n",
       "      <td>6</td>\n",
       "      <td>5</td>\n",
       "      <td>14</td>\n",
       "    </tr>\n",
       "    <tr>\n",
       "      <th>390</th>\n",
       "      <td>3</td>\n",
       "      <td>17</td>\n",
       "      <td>12</td>\n",
       "      <td>13</td>\n",
       "      <td>7</td>\n",
       "    </tr>\n",
       "    <tr>\n",
       "      <th>250</th>\n",
       "      <td>15</td>\n",
       "      <td>10</td>\n",
       "      <td>11</td>\n",
       "      <td>8</td>\n",
       "      <td>21</td>\n",
       "    </tr>\n",
       "  </tbody>\n",
       "</table>\n",
       "</div>"
      ],
      "text/plain": [
       "aᵢ \\ bⱼ  170  80   240  310  120\n",
       "280        9   14    6    5   14\n",
       "390        3   17   12   13    7\n",
       "250       15   10   11    8   21"
      ]
     },
     "execution_count": 31,
     "metadata": {},
     "output_type": "execute_result"
    }
   ],
   "source": [
    "A = np.array([a1, a2, a3])\n",
    "B = np.array([b1, b2, b3, b4, b5])\n",
    "df = pd.DataFrame(C, columns=B, index=A)\n",
    "df.columns.name = 'aᵢ \\\\ bⱼ'\n",
    "df\n"
   ]
  },
  {
   "cell_type": "code",
   "execution_count": 32,
   "metadata": {},
   "outputs": [
    {
     "name": "stdout",
     "output_type": "stream",
     "text": [
      "Задача закрытого типа\n"
     ]
    }
   ],
   "source": [
    "if sum(A) == sum(B):\n",
    "    print('Задача закрытого типа')\n",
    "else:\n",
    "    print('Задача открытого типа')"
   ]
  },
  {
   "cell_type": "code",
   "execution_count": 38,
   "metadata": {},
   "outputs": [
    {
     "name": "stdout",
     "output_type": "stream",
     "text": [
      "Опорный план является вырожденным\n",
      "Полученный план перевозки груза:\n",
      "\n",
      "[[  0   0   0 280   0]\n",
      " [170   0 100   0 120]\n",
      " [  0 -60   0  30   0]] \n",
      "\n",
      "Значение целевой функции для этого опорного плана F = 3590\n"
     ]
    }
   ],
   "source": [
    "N = len(A)\n",
    "M = len(B)\n",
    "P = np.zeros_like(C)\n",
    "INF = 1_000_000_007\n",
    "C_ = C.copy()\n",
    "A_ = A.copy()\n",
    "B_ = B.copy()\n",
    "i = 0\n",
    "j = 0\n",
    "while not np.all(C_ == INF):\n",
    "    i, j = np.unravel_index(C_.argmin(), C_.shape)\n",
    "    P[i][j] = min(A_[i], B_[j])\n",
    "    if A_[i] <= B_[j]:\n",
    "        C_[i].fill(INF)\n",
    "        B_[j] -= A_[i]\n",
    "        A_[i] = 0\n",
    "    else:\n",
    "        C_[:, j].fill(INF)\n",
    "        A_[i] -= B[j]\n",
    "        B_[j] = 0    \n",
    "if np.count_nonzero(P) == N + M - 1:\n",
    "    print('Опорный план является невырожденным')\n",
    "else:\n",
    "    print('Опорный план является вырожденным')\n",
    "\n",
    "F = 0\n",
    "for i in range(N):\n",
    "    for j in range(M):\n",
    "        F += C[i][j] * P[i][j]\n",
    "print('Полученный план перевозки груза:\\n')\n",
    "print(P,'\\n')\n",
    "print('Значение целевой функции для этого опорного плана F =', F)"
   ]
  },
  {
   "cell_type": "code",
   "execution_count": 48,
   "metadata": {},
   "outputs": [
    {
     "name": "stdout",
     "output_type": "stream",
     "text": [
      "Primal Feasibility  Dual Feasibility    Duality Gap         Step             Path Parameter      Objective          \n",
      "1.0                 1.0                 1.0                 -                1.0                 165.0               \n",
      "0.177421121087      0.177421121087      0.177421121087      0.8313789061773  0.177421121087      732.1689178409      \n",
      "0.03714875418581    0.03714875418581    0.0371487541858     0.8061538917504  0.03714875418568    2260.761942877      \n",
      "0.006391793646062   0.006391793646045   0.006391793646046   0.8371134764847  0.006391793646105   4639.226167906      \n",
      "0.00018223195846    0.0001822319584601  0.0001822319584594  0.9767922195898  0.0001822319586976  6185.482496217      \n",
      "2.216016241084e-08  2.216016234665e-08  2.216016166284e-08  0.9998787905402  2.216016157229e-08  6249.991932214      \n",
      "1.108017142741e-12  1.108022027768e-12  1.108617882903e-12  0.9999499993632  1.10857471693e-12   6249.999999597      \n",
      "Optimization terminated successfully.\n",
      "         Current function value: 6250.000000 \n",
      "         Iterations: 6\n",
      "Оптимальный план перевозки груза X*:\n",
      "\n",
      "[[  0.   0. 140. 140.   0.]\n",
      " [170.   0. 100.   0. 120.]\n",
      " [  0.  80.   0. 170.   0.]] \n",
      "\n",
      "Оптимальная стоимость перевозки (минимальная):\n",
      "F_min = F(X*) = 6250.0\n"
     ]
    },
    {
     "name": "stderr",
     "output_type": "stream",
     "text": [
      "C:\\Users\\a0932\\AppData\\Local\\Temp\\ipykernel_16132\\1193382566.py:6: OptimizeWarning: Solving system with option 'cholesky':True failed. It is normal for this to happen occasionally, especially as the solution is approached. However, if you see this frequently, consider setting option 'cholesky' to False.\n",
      "  res = linprog(C.flatten(), A_ub, b_ub, A_eq, b_eq, options={'disp': True})\n",
      "C:\\Users\\a0932\\AppData\\Local\\Temp\\ipykernel_16132\\1193382566.py:6: OptimizeWarning: Solving system with option 'sym_pos':True failed. It is normal for this to happen occasionally, especially as the solution is approached. However, if you see this frequently, consider setting option 'sym_pos' to False.\n",
      "  res = linprog(C.flatten(), A_ub, b_ub, A_eq, b_eq, options={'disp': True})\n",
      "c:\\Users\\a0932\\AppData\\Local\\Programs\\Python\\Python310\\lib\\site-packages\\scipy\\optimize\\_linprog_ip.py:117: LinAlgWarning: Ill-conditioned matrix (rcond=6.95375e-18): result may not be accurate.\n",
      "  return sp.linalg.solve(M, r, sym_pos=sym_pos)\n"
     ]
    }
   ],
   "source": [
    "A_ub = np.array([[1 if i in range(j*M, M*(j+1)) else 0 for i in range(N*M)] for j in range(N)])\n",
    "b_ub = A\n",
    "b_eq = B\n",
    "A_eq = np.array([[1 if i % M == j else 0 for i in range(N*M)] for j in range(M)])\n",
    "\n",
    "res = linprog(C.flatten(), A_ub, b_ub, A_eq, b_eq, options={'disp': True})\n",
    "\n",
    "X = res.x.round(3).reshape(N, M)\n",
    "F_min = res.fun.round(3)\n",
    "\n",
    "print('Оптимальный план перевозки груза X*:\\n')\n",
    "print(X, '\\n')\n",
    "print('Оптимальная стоимость перевозки (минимальная):\\nF_min = F(X*) =', F_min)"
   ]
  },
  {
   "cell_type": "code",
   "execution_count": 51,
   "metadata": {},
   "outputs": [],
   "source": [
    "import seaborn as sns"
   ]
  },
  {
   "cell_type": "code",
   "execution_count": 50,
   "metadata": {},
   "outputs": [
    {
     "name": "stdout",
     "output_type": "stream",
     "text": [
      "Collecting seaborn\n",
      "  Using cached seaborn-0.11.2-py3-none-any.whl (292 kB)\n",
      "Requirement already satisfied: matplotlib>=2.2 in c:\\users\\a0932\\appdata\\local\\programs\\python\\python310\\lib\\site-packages (from seaborn) (3.5.2)\n",
      "Requirement already satisfied: numpy>=1.15 in c:\\users\\a0932\\appdata\\local\\programs\\python\\python310\\lib\\site-packages (from seaborn) (1.22.3)\n",
      "Requirement already satisfied: pandas>=0.23 in c:\\users\\a0932\\appdata\\local\\programs\\python\\python310\\lib\\site-packages (from seaborn) (1.4.2)\n",
      "Requirement already satisfied: scipy>=1.0 in c:\\users\\a0932\\appdata\\local\\programs\\python\\python310\\lib\\site-packages (from seaborn) (1.8.0)\n",
      "Requirement already satisfied: packaging>=20.0 in c:\\users\\a0932\\appdata\\local\\programs\\python\\python310\\lib\\site-packages (from matplotlib>=2.2->seaborn) (21.3)\n",
      "Requirement already satisfied: pyparsing>=2.2.1 in c:\\users\\a0932\\appdata\\local\\programs\\python\\python310\\lib\\site-packages (from matplotlib>=2.2->seaborn) (3.0.9)\n",
      "Requirement already satisfied: pillow>=6.2.0 in c:\\users\\a0932\\appdata\\local\\programs\\python\\python310\\lib\\site-packages (from matplotlib>=2.2->seaborn) (9.1.0)\n",
      "Requirement already satisfied: cycler>=0.10 in c:\\users\\a0932\\appdata\\local\\programs\\python\\python310\\lib\\site-packages (from matplotlib>=2.2->seaborn) (0.11.0)\n",
      "Requirement already satisfied: fonttools>=4.22.0 in c:\\users\\a0932\\appdata\\local\\programs\\python\\python310\\lib\\site-packages (from matplotlib>=2.2->seaborn) (4.33.3)\n",
      "Requirement already satisfied: python-dateutil>=2.7 in c:\\users\\a0932\\appdata\\local\\programs\\python\\python310\\lib\\site-packages (from matplotlib>=2.2->seaborn) (2.8.2)\n",
      "Requirement already satisfied: kiwisolver>=1.0.1 in c:\\users\\a0932\\appdata\\local\\programs\\python\\python310\\lib\\site-packages (from matplotlib>=2.2->seaborn) (1.4.2)\n",
      "Requirement already satisfied: pytz>=2020.1 in c:\\users\\a0932\\appdata\\local\\programs\\python\\python310\\lib\\site-packages (from pandas>=0.23->seaborn) (2022.1)\n",
      "Requirement already satisfied: six>=1.5 in c:\\users\\a0932\\appdata\\local\\programs\\python\\python310\\lib\\site-packages (from python-dateutil>=2.7->matplotlib>=2.2->seaborn) (1.16.0)\n",
      "Installing collected packages: seaborn\n",
      "Successfully installed seaborn-0.11.2\n"
     ]
    },
    {
     "name": "stderr",
     "output_type": "stream",
     "text": [
      "WARNING: You are using pip version 22.0.4; however, version 22.1 is available.\n",
      "You should consider upgrading via the 'C:\\Users\\a0932\\AppData\\Local\\Programs\\Python\\Python310\\python.exe -m pip install --upgrade pip' command.\n"
     ]
    }
   ],
   "source": [
    "!pip install seaborn"
   ]
  },
  {
   "cell_type": "code",
   "execution_count": 47,
   "metadata": {},
   "outputs": [
    {
     "data": {
      "text/plain": [
       "array([[  0.,   0., 140., 140.,   0.],\n",
       "       [170.,   0., 100.,   0., 120.],\n",
       "       [  0.,  80.,   0., 170.,   0.]])"
      ]
     },
     "execution_count": 47,
     "metadata": {},
     "output_type": "execute_result"
    }
   ],
   "source": [
    "res.x.round(3).reshape(N, M)"
   ]
  },
  {
   "cell_type": "code",
   "execution_count": 52,
   "metadata": {},
   "outputs": [
    {
     "data": {
      "text/plain": [
       "<AxesSubplot:>"
      ]
     },
     "execution_count": 52,
     "metadata": {},
     "output_type": "execute_result"
    },
    {
     "data": {
      "image/png": "[encoded data removed]",
      "text/plain": [
       "<Figure size 432x288 with 2 Axes>"
      ]
     },
     "metadata": {
      "needs_background": "light"
     },
     "output_type": "display_data"
    }
   ],
   "source": [
    "sns.heatmap(X)"
   ]
  }
 ],
 "metadata": {
  "interpreter": {
   "hash": "c1289d808174c290cfddea2572e156ea23e023b0ae7f4fffa1e1924c9da144dd"
  },
  "kernelspec": {
   "display_name": "Python 3.10.4 64-bit",
   "language": "python",
   "name": "python3"
  },
  "language_info": {
   "codemirror_mode": {
    "name": "ipython",
    "version": 3
   },
   "file_extension": ".py",
   "mimetype": "text/x-python",
   "name": "python",
   "nbconvert_exporter": "python",
   "pygments_lexer": "ipython3",
   "version": "3.10.4"
  },
  "orig_nbformat": 4
 },
 "nbformat": 4,
 "nbformat_minor": 2
}
