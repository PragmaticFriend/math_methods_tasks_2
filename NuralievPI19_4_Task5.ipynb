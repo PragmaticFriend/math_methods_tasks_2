{
 "cells": [
  {
   "cell_type": "markdown",
   "metadata": {},
   "source": [
    "Нуралиев Расим. Группа ПИ19-4\n",
    "\n",
    "**Вариант 16**"
   ]
  },
  {
   "cell_type": "markdown",
   "metadata": {},
   "source": [
    "## Task 5"
   ]
  },
  {
   "cell_type": "markdown",
   "metadata": {},
   "source": [
    "Задание 5. Линейное программирование. \n",
    "\n",
    "Графический метод [1,2 – гл. 3, 4]\n",
    "Решить задачу линейного программирования, используя геометрическую интерпретацию.\n",
    "Проверить результаты вычислений на компьютер"
   ]
  },
  {
   "cell_type": "markdown",
   "metadata": {},
   "source": [
    "Параметры варианта 16:\n",
    "\n",
    "a = -3/4 <br>\n",
    "b = 13/2 <br>\n",
    "c = 3/4"
   ]
  },
  {
   "cell_type": "code",
   "execution_count": 2,
   "metadata": {},
   "outputs": [],
   "source": [
    "import numpy as np\n",
    "import pandas as pd\n",
    "import matplotlib.pyplot as plt\n",
    "\n",
    "from scipy.optimize import minimize, LinearConstraint, Bounds\n",
    "import sympy as sp"
   ]
  },
  {
   "cell_type": "markdown",
   "metadata": {},
   "source": [
    "### Переменные"
   ]
  },
  {
   "cell_type": "code",
   "execution_count": 3,
   "metadata": {},
   "outputs": [],
   "source": [
    "a = -3/4\n",
    "b = 13/2\n",
    "c = 3/4"
   ]
  },
  {
   "cell_type": "code",
   "execution_count": 8,
   "metadata": {},
   "outputs": [],
   "source": [
    "def gradient_func(xy):\n",
    "    x, y = xy\n",
    "    \n",
    "    res = np.zeros_like(xy)\n",
    "    res[0] = -1\n",
    "    res[1] = -a\n",
    "    \n",
    "    return res\n",
    "\n",
    "\n",
    "def func(xy):\n",
    "    x, y = xy\n",
    "    res = x+a*y\n",
    "    return -res "
   ]
  },
  {
   "cell_type": "code",
   "execution_count": 10,
   "metadata": {},
   "outputs": [
    {
     "data": {
      "text/plain": [
       "Bounds(array([0, 0]), array([inf, inf]))"
      ]
     },
     "execution_count": 10,
     "metadata": {},
     "output_type": "execute_result"
    }
   ],
   "source": [
    "x_min = 0\n",
    "y_min = 0\n",
    "x_max = np.inf\n",
    "y_max = np.inf\n",
    "bounds = Bounds([x_min, y_min], [x_max, y_max])\n",
    "bounds"
   ]
  },
  {
   "cell_type": "code",
   "execution_count": 63,
   "metadata": {},
   "outputs": [],
   "source": [
    "# Ограничения для функций системы \n",
    "linear_constraints = [LinearConstraint([1, 2], -np.inf, 10),\n",
    "                      LinearConstraint([3, 2], -np.inf, 18),\n",
    "                      LinearConstraint([1, -1], -b, np.inf),\n",
    "                      LinearConstraint([c, -1], -np.inf, 8*c + 3)]\n",
    "x0 = np.array([1.0, 1.0])"
   ]
  },
  {
   "cell_type": "code",
   "execution_count": 64,
   "metadata": {},
   "outputs": [],
   "source": [
    "def get_solution(func, x0, gr_func):\n",
    "  results = minimize(func, x0, jac=gr_func, constraints=linear_constraints, options={'disp': True})\n",
    "  x_1 = results.x[0]\n",
    "  x_2 = results.x[1]\n",
    "  max_val = -results.fun\n",
    "\n",
    "  print(f\"Подобранные значения:\\n\\nМаксимальное значение: {max_val}\\nx = {x_1}\\ny = {x_2}\")\n",
    "  return round(max_val, 5), round(x_1, 5), round(x_2, 5)"
   ]
  },
  {
   "cell_type": "code",
   "execution_count": 65,
   "metadata": {},
   "outputs": [
    {
     "name": "stdout",
     "output_type": "stream",
     "text": [
      "Optimization terminated successfully    (Exit mode 0)\n",
      "            Current function value: -10.249999999999677\n",
      "            Iterations: 5\n",
      "            Function evaluations: 5\n",
      "            Gradient evaluations: 5\n",
      "Подобранные значения:\n",
      "\n",
      "Максимальное значение: 10.249999999999677\n",
      "x = 7.999999999999769\n",
      "y = -2.9999999999998783\n"
     ]
    }
   ],
   "source": [
    "max_val, x_1, x_2 = get_solution(func, x0, gradient_func)"
   ]
  },
  {
   "cell_type": "code",
   "execution_count": 70,
   "metadata": {},
   "outputs": [
    {
     "data": {
      "image/png": "[encoded data removed]",
      "text/plain": [
       "<Figure size 432x288 with 1 Axes>"
      ]
     },
     "metadata": {
      "needs_background": "light"
     },
     "output_type": "display_data"
    }
   ],
   "source": [
    "# https://pyprog.pro/array_creation/meshgrid.html\n",
    "\n",
    "# отрисовка фигуры\n",
    "d = np.linspace(-30,20,500)\n",
    "x,y = np.meshgrid(d,d)\n",
    "plt.imshow( ((2*y<=10-x) & (2*y<=18-3*x) & (y<=x+b) & (y>=c*x-8*c-3)).astype(int) , \n",
    "                extent=(x.min(),x.max(),y.min(),y.max()),origin=\"lower\", cmap=\"cool\", alpha = 0.5);\n",
    "\n",
    "x = np.linspace(-20, 20, 2000)\n",
    "\n",
    "# Выразим 'y' из функций из системы 'D'\n",
    "\n",
    "# y <= (10 - x)/2\n",
    "# y <= (18 - 3x)/2\n",
    "# y <= x + b\n",
    "# y >= cx - 8c - 3\n",
    "\n",
    "\n",
    "y1 = (10-x)/2.0\n",
    "y2 = (18-3*x)/2.0\n",
    "y3 = x + b\n",
    "y4 = c*x - 8*c - 3\n",
    "\n",
    "y5 = max_val/a - x/a\n",
    "y6 = 4/a - x/a\n",
    "\n",
    "\n",
    "plt.plot(x, y1, label=r'$2y\\leq 10-x$')\n",
    "plt.plot(x, y2, label=r'$2y\\leq 18-3x$')\n",
    "plt.plot(x, y3, label=fr'$y\\leq x + {b}$')\n",
    "plt.plot(x, y4, label=fr'$y\\geq {c}(x-8)-3$')\n",
    "plt.plot(x, y5, label=f'F={max_val.round(3)}')\n",
    "plt.plot(x, y6, label='F=4')\n",
    "\n",
    "plt.xlim(-20, 30)\n",
    "plt.ylim(-20,20)\n",
    "\n",
    "plt.plot(x_1, x_2, 'ko')\n",
    "plt.text(x_1 + 1, x_2 + 1, f'M*({x_1.round(3)}, {x_2.round(3)})')\n",
    "\n",
    "plt.legend(bbox_to_anchor=(1.05, 1), loc=2, borderaxespad=0.)\n",
    "plt.xlabel(r'$x$')\n",
    "plt.ylabel(r'$y$')\n",
    "\n",
    "plt.show()"
   ]
  }
 ],
 "metadata": {
  "interpreter": {
   "hash": "95825280d46be1c77c50240cbdd62d49105ab763506cd079c14e5b5bcade1105"
  },
  "kernelspec": {
   "display_name": "Python 3.9.7 ('base')",
   "language": "python",
   "name": "python3"
  },
  "language_info": {
   "codemirror_mode": {
    "name": "ipython",
    "version": 3
   },
   "file_extension": ".py",
   "mimetype": "text/x-python",
   "name": "python",
   "nbconvert_exporter": "python",
   "pygments_lexer": "ipython3",
   "version": "3.9.7"
  },
  "orig_nbformat": 4
 },
 "nbformat": 4,
 "nbformat_minor": 2
}
